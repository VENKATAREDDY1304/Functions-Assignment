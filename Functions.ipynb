{
  "nbformat": 4,
  "nbformat_minor": 0,
  "metadata": {
    "colab": {
      "provenance": []
    },
    "kernelspec": {
      "name": "python3",
      "display_name": "Python 3"
    },
    "language_info": {
      "name": "python"
    }
  },
  "cells": [
    {
      "cell_type": "markdown",
      "source": [
        "**1.What is the difference between a function and a method in Python?**\n",
        "*   sol:A function is a block of reusable code that performs a specific task and is not associated with any object.\n",
        "  Functions are defined using the def keyword, and can be called independently.\n",
        "*  A  method is similar to a function but is associated with an object (usually an instance of a class) and operates on that object’s data.\n",
        "  Methods are defined within a class and are called on an instance of that class (or sometimes the class itself)."
      ],
      "metadata": {
        "id": "Mp1emlXBRXeZ"
      }
    },
    {
      "cell_type": "code",
      "source": [
        "# Function\n",
        "def add(a, b):\n",
        "    return a + b\n",
        "result = add(3, 4)\n",
        "print(result)\n",
        "\n",
        "# Method\n",
        "class Calculator:\n",
        "    def multiply(self, a, b):\n",
        "        return a * b\n",
        "calc = Calculator()\n",
        "result = calc.multiply(3, 4)\n",
        "print(result)"
      ],
      "metadata": {
        "colab": {
          "base_uri": "https://localhost:8080/"
        },
        "id": "MTIGoxarRvmi",
        "outputId": "141e13ad-069d-46d1-9e0d-2330c19034ad"
      },
      "execution_count": null,
      "outputs": [
        {
          "output_type": "stream",
          "name": "stdout",
          "text": [
            "7\n",
            "12\n"
          ]
        }
      ]
    },
    {
      "cell_type": "markdown",
      "source": [
        "**2.Explain the concept of function arguments and parameters in Python.**\n",
        "* sol:**Function Parameters:**\n",
        "Parameters are the variables defined in the function signature (i.e., in the parentheses) when you define the function.\n",
        "They act as placeholders for the values that will be passed into the function when it is called.\n",
        "* **Function Arguments:**Arguments are the actual values that you pass to the function when you call it.\n",
        "These values replace the parameters and are used within the function."
      ],
      "metadata": {
        "id": "1LYzpUYzTIFJ"
      }
    },
    {
      "cell_type": "code",
      "source": [
        "# Function Parameters\n",
        "def greet(name, age):\n",
        "  print(f\"Hello, {name}! You are {age} years old.\")\n",
        "# Function Arguments:\n",
        "greet(\"venkata reddy\", 24)"
      ],
      "metadata": {
        "colab": {
          "base_uri": "https://localhost:8080/"
        },
        "id": "Rfn07absVlcx",
        "outputId": "e6ad44fd-f2a0-4ebc-fa2c-203ec9caf294"
      },
      "execution_count": null,
      "outputs": [
        {
          "output_type": "stream",
          "name": "stdout",
          "text": [
            "Hello, venkata reddy! You are 24 years old.\n"
          ]
        }
      ]
    },
    {
      "cell_type": "markdown",
      "source": [
        "**3.What are the different ways to define and call a function in Python?**\n",
        "* sol: **Basic function:** Defined using def and called with arguments.\n",
        "* **Default arguments:**Functions can have default values for parameters.\n",
        "* **Variable arguments (args,kwargs):** Functions can accept arbitrary numbers of arguments.\n",
        "* **Lambda functions:** Short, anonymous functions defined with lambda.\n",
        "* **Recursive functions:** Functions that call themselves.\n",
        "* **Methods:** Functions that are part of a class.\n",
        "* **Returning multiple values:** Functions can return tuples."
      ],
      "metadata": {
        "id": "pBZGlyrcZoFz"
      }
    },
    {
      "cell_type": "markdown",
      "source": [
        "**4. What is the purpose of the `return` statement in a Python function?**\n",
        "\n",
        "* sol:\n",
        "\n",
        " The return statement in a Python function is used to send a result back to the caller of the function.\n",
        "* Main Purposes of return:\n",
        "\n",
        "  * **End the function's execution:** When Python hits a return statement, it immediately stops executing the function.\n",
        "  * **Send data back:** It passes the result (value or object) back to the place where the function was called.\n"
      ],
      "metadata": {
        "id": "wW8lifO6vXX_"
      }
    },
    {
      "cell_type": "code",
      "source": [
        "def add(a, b):\n",
        "    return a + b\n",
        "\n",
        "result = add(5, 3)\n",
        "print(result)"
      ],
      "metadata": {
        "colab": {
          "base_uri": "https://localhost:8080/"
        },
        "id": "hAcSL5UOIdkd",
        "outputId": "aa47a76b-9a0e-4927-ff09-fe49455e2405"
      },
      "execution_count": 1,
      "outputs": [
        {
          "output_type": "stream",
          "name": "stdout",
          "text": [
            "8\n"
          ]
        }
      ]
    },
    {
      "cell_type": "markdown",
      "source": [
        "**5.What are iterators in Python and how do they differ from iterables?**\n",
        "* sol:🔁 Iterables vs Iterators in Python\n",
        "✅ Iterable\n",
        "An iterable is any Python object that you can loop over with a for loop.\n",
        "\n",
        "Examples of iterables:\n",
        "\n",
        "* Lists ([1, 2, 3])\n",
        "\n",
        "* Tuples ((1, 2, 3))\n",
        "\n",
        "* Strings (\"hello\")\n",
        "\n",
        "* Sets, Dictionaries, etc.\n",
        "\n",
        "Key point:\n",
        "\n",
        "* It has the __iter__() method.\n",
        "\n",
        "* But it doesn’t remember its position during iteration."
      ],
      "metadata": {
        "id": "fMdhg_dNIwzJ"
      }
    },
    {
      "cell_type": "code",
      "source": [
        "my_list = [1, 2, 3]\n",
        "for item in my_list:  # my_list is iterable\n",
        "    print(item)"
      ],
      "metadata": {
        "colab": {
          "base_uri": "https://localhost:8080/"
        },
        "id": "cWGloHXbJlEs",
        "outputId": "947d47c2-5846-4a42-dedb-969b0cfd9c97"
      },
      "execution_count": 2,
      "outputs": [
        {
          "output_type": "stream",
          "name": "stdout",
          "text": [
            "1\n",
            "2\n",
            "3\n"
          ]
        }
      ]
    },
    {
      "cell_type": "markdown",
      "source": [
        "* 🔁 Iterator\n",
        "\n",
        "An iterator is an object that:\n",
        "\n",
        "* 1.Keeps track of where it is during iteration.\n",
        "\n",
        "* 2.Has two main methods:\n",
        "\n",
        " * \"-_iter__() : returns the iterator object itself.\n",
        "\n",
        "* \"___next__-() : returns the next item in the sequence, and raises StopIteration when done.\n",
        "\n",
        "You get an iterator from an iterable using the iter() function."
      ],
      "metadata": {
        "id": "Ui4GGL5zJtxs"
      }
    },
    {
      "cell_type": "code",
      "source": [
        "my_list = [1, 2, 3]\n",
        "it = iter(my_list)      # Convert iterable to iterator\n",
        "\n",
        "print(next(it))         # 1\n",
        "print(next(it))         # 2\n",
        "print(next(it))         # 3\n",
        "# next(it)              # Raises StopIteration\n"
      ],
      "metadata": {
        "colab": {
          "base_uri": "https://localhost:8080/"
        },
        "id": "JMHPYkBSK6FM",
        "outputId": "36ae3388-bc88-453a-bba7-87d20326af89"
      },
      "execution_count": 3,
      "outputs": [
        {
          "output_type": "stream",
          "name": "stdout",
          "text": [
            "1\n",
            "2\n",
            "3\n"
          ]
        }
      ]
    },
    {
      "cell_type": "markdown",
      "source": [
        "**6. Explain the concept of generators in Python and how they are defined.**\n",
        "* Sol: A generator is a special type of iterator in Python, used to generate values on the fly instead of storing them all in memory at once.\n",
        "\n",
        "**It allows you to:**\n",
        "\n",
        "* Iterate over data lazily (i.e., one item at a time),\n",
        "\n",
        "* Save memory, especially for large data sets."
      ],
      "metadata": {
        "id": "E6BaDMlDLEn9"
      }
    },
    {
      "cell_type": "code",
      "source": [
        "def count_up_to(n):\n",
        "    count = 1\n",
        "    while count <= n:\n",
        "        yield count\n",
        "        count += 1\n",
        "\n",
        "gen = count_up_to(8)\n",
        "print(next(gen))  # 1\n",
        "print(next(gen))  # 2\n",
        "print(next(gen))  # 3\n",
        "# next(gen)      # Raises StopIteration\n"
      ],
      "metadata": {
        "colab": {
          "base_uri": "https://localhost:8080/"
        },
        "id": "HuykWCBAW7Vs",
        "outputId": "d85123a6-8697-43aa-c697-46cace609fe5"
      },
      "execution_count": 8,
      "outputs": [
        {
          "output_type": "stream",
          "name": "stdout",
          "text": [
            "1 2 3\n"
          ]
        }
      ]
    },
    {
      "cell_type": "markdown",
      "source": [
        "**7. What are the advantages of using generators over regular functions?**\n",
        "* Sol:\n",
        "* There are mainly six advantages of using generators over regulr functions\n",
        "  * they are\n",
        "    * 1.Memory Efficiency\n",
        "      * Generators do not store all values in memory.\n",
        "      * They yield one item at a time, so they use very little memory, even with large datasets.\n",
        "    * 2.Lazy Evaluation (Faster Startup)\n",
        "      * Generators start producing values immediately.\n",
        "      * No need to wait for the whole result to be calculated\n",
        "    * 3.Simpler Code for Iterators\n",
        "      * Writing a generator function with yield is easier than creating a full iterator class with __iter__() and __next__() methods\n",
        "    * 4.Pause and Resume Functionality\n",
        "      * A generator remembers its state between calls using yield.\n",
        "      * Each call to next() resumes from where it left off.\n",
        "    * 5.Work Well with Infinite Sequences\n",
        "      * Generators are ideal for producing infinite sequences (e.g., streaming logs, sensor data) because they don’t try to load everything at once.\n",
        "    * 6.Can Be Used in Pipelines\n",
        "      * Generators can be chained together, allowing lazy data processing pipelines."
      ],
      "metadata": {
        "id": "nRhQMd29XuGF"
      }
    },
    {
      "cell_type": "markdown",
      "source": [
        "**8. What is a lambda function in Python and when is it typically used?**\n",
        "* Sol:\n",
        "A lambda function is a small anonymous function in Python — meaning it has no name (unless you assign it to a variable).\n",
        "It is used to define simple, short functions in a single line.\n",
        "\n",
        "**Usages of lambda function:**\n",
        "* Lambda functions are usually used in places where:\n",
        "  * A short function is needed temporarily.\n",
        "  * Defining a full function with def would be unnecessary or overkill.\n",
        "Common Use Cases:\n",
        "1. With map() – Apply a function to each item in a list:"
      ],
      "metadata": {
        "id": "o-ugeIVTbTg7"
      }
    },
    {
      "cell_type": "code",
      "source": [
        "nums = [1, 2, 3]\n",
        "squares = list(map(lambda x: x * x, nums))\n",
        "print(squares)"
      ],
      "metadata": {
        "colab": {
          "base_uri": "https://localhost:8080/"
        },
        "id": "72PM54sQdNXn",
        "outputId": "36e35310-cc10-4b1b-b669-bd2f51851e12"
      },
      "execution_count": 9,
      "outputs": [
        {
          "output_type": "stream",
          "name": "stdout",
          "text": [
            "[1, 4, 9]\n"
          ]
        }
      ]
    },
    {
      "cell_type": "markdown",
      "source": [
        "2. With filter() – Filter items based on a condition:\n"
      ],
      "metadata": {
        "id": "OMwXCNZOdQaY"
      }
    },
    {
      "cell_type": "code",
      "source": [
        "nums = [1, 2, 3, 4]\n",
        "evens = list(filter(lambda x: x % 2 == 0, nums))\n",
        "print(evens)"
      ],
      "metadata": {
        "colab": {
          "base_uri": "https://localhost:8080/"
        },
        "id": "DR9w0pK1dWaa",
        "outputId": "8174ebe2-abcb-4faa-c754-6742dd43648b"
      },
      "execution_count": 10,
      "outputs": [
        {
          "output_type": "stream",
          "name": "stdout",
          "text": [
            "[2, 4]\n"
          ]
        }
      ]
    },
    {
      "cell_type": "markdown",
      "source": [
        "3. With sorted() – Custom sort logic:"
      ],
      "metadata": {
        "id": "8IlainLZdaOS"
      }
    },
    {
      "cell_type": "code",
      "source": [
        "pairs = [(2, 'b'), (1, 'a'), (3, 'c')]\n",
        "sorted_pairs = sorted(pairs, key=lambda x: x[0])\n",
        "print(sorted_pairs)  # [(1, 'a'), (2, 'b'), (3, 'c')]"
      ],
      "metadata": {
        "colab": {
          "base_uri": "https://localhost:8080/"
        },
        "id": "aZNtCDYKdgml",
        "outputId": "bbacc231-0163-4ba9-a8ed-2de635d6eb02"
      },
      "execution_count": 11,
      "outputs": [
        {
          "output_type": "stream",
          "name": "stdout",
          "text": [
            "[(1, 'a'), (2, 'b'), (3, 'c')]\n"
          ]
        }
      ]
    },
    {
      "cell_type": "markdown",
      "source": [
        "4. In GUI callbacks or simple event handlers (e.g., Tkinter, PyQt)."
      ],
      "metadata": {
        "id": "LbBj_E-Udkq9"
      }
    },
    {
      "cell_type": "markdown",
      "source": [
        "**9. Explain the purpose and usage of the `map()` function in Python.**\n",
        "* Sol:\n",
        "The map() function is used to apply a function to each item in an iterable (like a list, tuple, etc.) and return a new iterable (a map object) with the transformed values.\n",
        "\n",
        "**Syntax :\n",
        "map(function, iterable)**\n",
        "\n",
        "**function:** A function to apply to each element.\n",
        "\n",
        "**iterable:** The input data (e.g., list, tuple).\n",
        "\n",
        "**Returns:** A map object (which is an iterator), so you often wrap it in list() or tuple().\n",
        "\n",
        "**Usages of \"map()\" function\"**\n"
      ],
      "metadata": {
        "id": "XfvKX9gbeHOn"
      }
    },
    {
      "cell_type": "code",
      "source": [
        "# Example 1: Square each number in a list\n",
        "\n",
        "nums = [1, 2, 3, 4]\n",
        "squared = map(lambda x: x ** 2, nums)\n",
        "print(list(squared))"
      ],
      "metadata": {
        "colab": {
          "base_uri": "https://localhost:8080/"
        },
        "id": "83IPc1D5fRGe",
        "outputId": "8028bf35-5d71-4650-b8e7-1cb215c35510"
      },
      "execution_count": 12,
      "outputs": [
        {
          "output_type": "stream",
          "name": "stdout",
          "text": [
            "[1, 4, 9, 16]\n"
          ]
        }
      ]
    },
    {
      "cell_type": "code",
      "source": [
        "# Example 2: Convert strings to uppercase\n",
        "\n",
        "words = [\"hello\", \"world\"]\n",
        "uppercased = map(str.upper, words)\n",
        "print(list(uppercased))"
      ],
      "metadata": {
        "colab": {
          "base_uri": "https://localhost:8080/"
        },
        "id": "IwYLedRxfaa3",
        "outputId": "655f0136-2451-412c-db45-8594528890f7"
      },
      "execution_count": 13,
      "outputs": [
        {
          "output_type": "stream",
          "name": "stdout",
          "text": [
            "['HELLO', 'WORLD']\n"
          ]
        }
      ]
    },
    {
      "cell_type": "code",
      "source": [
        "# Example 3: With user-defined function\n",
        "\n",
        "def double(x):\n",
        "    return x * 2\n",
        "\n",
        "values = [10, 20, 30]\n",
        "result = map(double, values)\n",
        "print(list(result))"
      ],
      "metadata": {
        "colab": {
          "base_uri": "https://localhost:8080/"
        },
        "id": "gI4EC5kNfh-X",
        "outputId": "b70a36f3-bd0d-44cd-b729-a93f26ee9c2b"
      },
      "execution_count": 14,
      "outputs": [
        {
          "output_type": "stream",
          "name": "stdout",
          "text": [
            "[20, 40, 60]\n"
          ]
        }
      ]
    },
    {
      "cell_type": "code",
      "source": [
        "# Example 4: Map over multiple iterables\n",
        "\n",
        "a = [1, 2, 3]\n",
        "b = [10, 20, 30]\n",
        "summed = map(lambda x, y: x + y, a, b)\n",
        "print(list(summed))"
      ],
      "metadata": {
        "colab": {
          "base_uri": "https://localhost:8080/"
        },
        "id": "BB9T39ulfo6o",
        "outputId": "b09eb8cc-0b50-4b09-eec4-4e6a00f2206e"
      },
      "execution_count": 15,
      "outputs": [
        {
          "output_type": "stream",
          "name": "stdout",
          "text": [
            "[11, 22, 33]\n"
          ]
        }
      ]
    },
    {
      "cell_type": "markdown",
      "source": [
        "**10. What is the difference between `map()`, `reduce()`, and `filter()` functions in Python?**\n"
      ],
      "metadata": {
        "id": "xQemywKwgKy6"
      }
    },
    {
      "cell_type": "code",
      "source": [
        "import pandas as pd\n",
        "from functools import reduce\n",
        "\n",
        "# Create comparison data\n",
        "data = {\n",
        "    'Feature': [\n",
        "        'Purpose',\n",
        "        'Function Type',\n",
        "        'Input',\n",
        "        'Output',\n",
        "        'Requires import?',\n",
        "        'Return Type',\n",
        "        'Typical Use Case',\n",
        "        'Example Code',\n",
        "        'Example Output'\n",
        "    ],\n",
        "    'map()': [\n",
        "        'Applies a function to each item',\n",
        "        'Transformation',\n",
        "        'Function, Iterable',\n",
        "        'map object (iterator)',\n",
        "        'No',\n",
        "        'Transformed elements',\n",
        "        'Change/convert all items',\n",
        "        'map(lambda x: x*2, [1,2,3])',\n",
        "        '[2, 4, 6]'\n",
        "    ],\n",
        "    'filter()': [\n",
        "        'Selects items that meet a condition',\n",
        "        'Boolean condition',\n",
        "        'Function (returns bool), Iterable',\n",
        "        'filter object (iterator)',\n",
        "        'No',\n",
        "        'Filtered elements',\n",
        "        'Pick certain items',\n",
        "        'filter(lambda x: x%2==0, [1,2,3])',\n",
        "        '[2]'\n",
        "    ],\n",
        "    'reduce()': [\n",
        "        'Combines all items into a single value',\n",
        "        'Cumulative/combinatorial',\n",
        "        'Function (2 args), Iterable',\n",
        "        'Single value',\n",
        "        'Yes (functools)',\n",
        "        'Final reduced result',\n",
        "        'Sum, product, combine all values',\n",
        "        'reduce(lambda x,y: x+y, [1,2,3])',\n",
        "        '6'\n",
        "    ]\n",
        "}\n",
        "\n",
        "# Convert to DataFrame\n",
        "df = pd.DataFrame(data)\n",
        "\n",
        "# Display the table\n",
        "df\n"
      ],
      "metadata": {
        "colab": {
          "base_uri": "https://localhost:8080/",
          "height": 470
        },
        "id": "ZtH7d_TfhoOt",
        "outputId": "11226d7b-5543-481b-80a8-609863a2d829"
      },
      "execution_count": 16,
      "outputs": [
        {
          "output_type": "execute_result",
          "data": {
            "text/plain": [
              "            Feature                            map()  \\\n",
              "0           Purpose  Applies a function to each item   \n",
              "1     Function Type                   Transformation   \n",
              "2             Input               Function, Iterable   \n",
              "3            Output            map object (iterator)   \n",
              "4  Requires import?                               No   \n",
              "5       Return Type             Transformed elements   \n",
              "6  Typical Use Case         Change/convert all items   \n",
              "7      Example Code      map(lambda x: x*2, [1,2,3])   \n",
              "8    Example Output                        [2, 4, 6]   \n",
              "\n",
              "                              filter()                                reduce()  \n",
              "0  Selects items that meet a condition  Combines all items into a single value  \n",
              "1                    Boolean condition                Cumulative/combinatorial  \n",
              "2    Function (returns bool), Iterable             Function (2 args), Iterable  \n",
              "3             filter object (iterator)                            Single value  \n",
              "4                                   No                         Yes (functools)  \n",
              "5                    Filtered elements                    Final reduced result  \n",
              "6                   Pick certain items        Sum, product, combine all values  \n",
              "7    filter(lambda x: x%2==0, [1,2,3])        reduce(lambda x,y: x+y, [1,2,3])  \n",
              "8                                  [2]                                       6  "
            ],
            "text/html": [
              "\n",
              "  <div id=\"df-07983b37-eebf-409d-aa80-88fcf4cb0808\" class=\"colab-df-container\">\n",
              "    <div>\n",
              "<style scoped>\n",
              "    .dataframe tbody tr th:only-of-type {\n",
              "        vertical-align: middle;\n",
              "    }\n",
              "\n",
              "    .dataframe tbody tr th {\n",
              "        vertical-align: top;\n",
              "    }\n",
              "\n",
              "    .dataframe thead th {\n",
              "        text-align: right;\n",
              "    }\n",
              "</style>\n",
              "<table border=\"1\" class=\"dataframe\">\n",
              "  <thead>\n",
              "    <tr style=\"text-align: right;\">\n",
              "      <th></th>\n",
              "      <th>Feature</th>\n",
              "      <th>map()</th>\n",
              "      <th>filter()</th>\n",
              "      <th>reduce()</th>\n",
              "    </tr>\n",
              "  </thead>\n",
              "  <tbody>\n",
              "    <tr>\n",
              "      <th>0</th>\n",
              "      <td>Purpose</td>\n",
              "      <td>Applies a function to each item</td>\n",
              "      <td>Selects items that meet a condition</td>\n",
              "      <td>Combines all items into a single value</td>\n",
              "    </tr>\n",
              "    <tr>\n",
              "      <th>1</th>\n",
              "      <td>Function Type</td>\n",
              "      <td>Transformation</td>\n",
              "      <td>Boolean condition</td>\n",
              "      <td>Cumulative/combinatorial</td>\n",
              "    </tr>\n",
              "    <tr>\n",
              "      <th>2</th>\n",
              "      <td>Input</td>\n",
              "      <td>Function, Iterable</td>\n",
              "      <td>Function (returns bool), Iterable</td>\n",
              "      <td>Function (2 args), Iterable</td>\n",
              "    </tr>\n",
              "    <tr>\n",
              "      <th>3</th>\n",
              "      <td>Output</td>\n",
              "      <td>map object (iterator)</td>\n",
              "      <td>filter object (iterator)</td>\n",
              "      <td>Single value</td>\n",
              "    </tr>\n",
              "    <tr>\n",
              "      <th>4</th>\n",
              "      <td>Requires import?</td>\n",
              "      <td>No</td>\n",
              "      <td>No</td>\n",
              "      <td>Yes (functools)</td>\n",
              "    </tr>\n",
              "    <tr>\n",
              "      <th>5</th>\n",
              "      <td>Return Type</td>\n",
              "      <td>Transformed elements</td>\n",
              "      <td>Filtered elements</td>\n",
              "      <td>Final reduced result</td>\n",
              "    </tr>\n",
              "    <tr>\n",
              "      <th>6</th>\n",
              "      <td>Typical Use Case</td>\n",
              "      <td>Change/convert all items</td>\n",
              "      <td>Pick certain items</td>\n",
              "      <td>Sum, product, combine all values</td>\n",
              "    </tr>\n",
              "    <tr>\n",
              "      <th>7</th>\n",
              "      <td>Example Code</td>\n",
              "      <td>map(lambda x: x*2, [1,2,3])</td>\n",
              "      <td>filter(lambda x: x%2==0, [1,2,3])</td>\n",
              "      <td>reduce(lambda x,y: x+y, [1,2,3])</td>\n",
              "    </tr>\n",
              "    <tr>\n",
              "      <th>8</th>\n",
              "      <td>Example Output</td>\n",
              "      <td>[2, 4, 6]</td>\n",
              "      <td>[2]</td>\n",
              "      <td>6</td>\n",
              "    </tr>\n",
              "  </tbody>\n",
              "</table>\n",
              "</div>\n",
              "    <div class=\"colab-df-buttons\">\n",
              "\n",
              "  <div class=\"colab-df-container\">\n",
              "    <button class=\"colab-df-convert\" onclick=\"convertToInteractive('df-07983b37-eebf-409d-aa80-88fcf4cb0808')\"\n",
              "            title=\"Convert this dataframe to an interactive table.\"\n",
              "            style=\"display:none;\">\n",
              "\n",
              "  <svg xmlns=\"http://www.w3.org/2000/svg\" height=\"24px\" viewBox=\"0 -960 960 960\">\n",
              "    <path d=\"M120-120v-720h720v720H120Zm60-500h600v-160H180v160Zm220 220h160v-160H400v160Zm0 220h160v-160H400v160ZM180-400h160v-160H180v160Zm440 0h160v-160H620v160ZM180-180h160v-160H180v160Zm440 0h160v-160H620v160Z\"/>\n",
              "  </svg>\n",
              "    </button>\n",
              "\n",
              "  <style>\n",
              "    .colab-df-container {\n",
              "      display:flex;\n",
              "      gap: 12px;\n",
              "    }\n",
              "\n",
              "    .colab-df-convert {\n",
              "      background-color: #E8F0FE;\n",
              "      border: none;\n",
              "      border-radius: 50%;\n",
              "      cursor: pointer;\n",
              "      display: none;\n",
              "      fill: #1967D2;\n",
              "      height: 32px;\n",
              "      padding: 0 0 0 0;\n",
              "      width: 32px;\n",
              "    }\n",
              "\n",
              "    .colab-df-convert:hover {\n",
              "      background-color: #E2EBFA;\n",
              "      box-shadow: 0px 1px 2px rgba(60, 64, 67, 0.3), 0px 1px 3px 1px rgba(60, 64, 67, 0.15);\n",
              "      fill: #174EA6;\n",
              "    }\n",
              "\n",
              "    .colab-df-buttons div {\n",
              "      margin-bottom: 4px;\n",
              "    }\n",
              "\n",
              "    [theme=dark] .colab-df-convert {\n",
              "      background-color: #3B4455;\n",
              "      fill: #D2E3FC;\n",
              "    }\n",
              "\n",
              "    [theme=dark] .colab-df-convert:hover {\n",
              "      background-color: #434B5C;\n",
              "      box-shadow: 0px 1px 3px 1px rgba(0, 0, 0, 0.15);\n",
              "      filter: drop-shadow(0px 1px 2px rgba(0, 0, 0, 0.3));\n",
              "      fill: #FFFFFF;\n",
              "    }\n",
              "  </style>\n",
              "\n",
              "    <script>\n",
              "      const buttonEl =\n",
              "        document.querySelector('#df-07983b37-eebf-409d-aa80-88fcf4cb0808 button.colab-df-convert');\n",
              "      buttonEl.style.display =\n",
              "        google.colab.kernel.accessAllowed ? 'block' : 'none';\n",
              "\n",
              "      async function convertToInteractive(key) {\n",
              "        const element = document.querySelector('#df-07983b37-eebf-409d-aa80-88fcf4cb0808');\n",
              "        const dataTable =\n",
              "          await google.colab.kernel.invokeFunction('convertToInteractive',\n",
              "                                                    [key], {});\n",
              "        if (!dataTable) return;\n",
              "\n",
              "        const docLinkHtml = 'Like what you see? Visit the ' +\n",
              "          '<a target=\"_blank\" href=https://colab.research.google.com/notebooks/data_table.ipynb>data table notebook</a>'\n",
              "          + ' to learn more about interactive tables.';\n",
              "        element.innerHTML = '';\n",
              "        dataTable['output_type'] = 'display_data';\n",
              "        await google.colab.output.renderOutput(dataTable, element);\n",
              "        const docLink = document.createElement('div');\n",
              "        docLink.innerHTML = docLinkHtml;\n",
              "        element.appendChild(docLink);\n",
              "      }\n",
              "    </script>\n",
              "  </div>\n",
              "\n",
              "\n",
              "    <div id=\"df-df7d656b-f40d-4eee-9d08-f452cb97ea81\">\n",
              "      <button class=\"colab-df-quickchart\" onclick=\"quickchart('df-df7d656b-f40d-4eee-9d08-f452cb97ea81')\"\n",
              "                title=\"Suggest charts\"\n",
              "                style=\"display:none;\">\n",
              "\n",
              "<svg xmlns=\"http://www.w3.org/2000/svg\" height=\"24px\"viewBox=\"0 0 24 24\"\n",
              "     width=\"24px\">\n",
              "    <g>\n",
              "        <path d=\"M19 3H5c-1.1 0-2 .9-2 2v14c0 1.1.9 2 2 2h14c1.1 0 2-.9 2-2V5c0-1.1-.9-2-2-2zM9 17H7v-7h2v7zm4 0h-2V7h2v10zm4 0h-2v-4h2v4z\"/>\n",
              "    </g>\n",
              "</svg>\n",
              "      </button>\n",
              "\n",
              "<style>\n",
              "  .colab-df-quickchart {\n",
              "      --bg-color: #E8F0FE;\n",
              "      --fill-color: #1967D2;\n",
              "      --hover-bg-color: #E2EBFA;\n",
              "      --hover-fill-color: #174EA6;\n",
              "      --disabled-fill-color: #AAA;\n",
              "      --disabled-bg-color: #DDD;\n",
              "  }\n",
              "\n",
              "  [theme=dark] .colab-df-quickchart {\n",
              "      --bg-color: #3B4455;\n",
              "      --fill-color: #D2E3FC;\n",
              "      --hover-bg-color: #434B5C;\n",
              "      --hover-fill-color: #FFFFFF;\n",
              "      --disabled-bg-color: #3B4455;\n",
              "      --disabled-fill-color: #666;\n",
              "  }\n",
              "\n",
              "  .colab-df-quickchart {\n",
              "    background-color: var(--bg-color);\n",
              "    border: none;\n",
              "    border-radius: 50%;\n",
              "    cursor: pointer;\n",
              "    display: none;\n",
              "    fill: var(--fill-color);\n",
              "    height: 32px;\n",
              "    padding: 0;\n",
              "    width: 32px;\n",
              "  }\n",
              "\n",
              "  .colab-df-quickchart:hover {\n",
              "    background-color: var(--hover-bg-color);\n",
              "    box-shadow: 0 1px 2px rgba(60, 64, 67, 0.3), 0 1px 3px 1px rgba(60, 64, 67, 0.15);\n",
              "    fill: var(--button-hover-fill-color);\n",
              "  }\n",
              "\n",
              "  .colab-df-quickchart-complete:disabled,\n",
              "  .colab-df-quickchart-complete:disabled:hover {\n",
              "    background-color: var(--disabled-bg-color);\n",
              "    fill: var(--disabled-fill-color);\n",
              "    box-shadow: none;\n",
              "  }\n",
              "\n",
              "  .colab-df-spinner {\n",
              "    border: 2px solid var(--fill-color);\n",
              "    border-color: transparent;\n",
              "    border-bottom-color: var(--fill-color);\n",
              "    animation:\n",
              "      spin 1s steps(1) infinite;\n",
              "  }\n",
              "\n",
              "  @keyframes spin {\n",
              "    0% {\n",
              "      border-color: transparent;\n",
              "      border-bottom-color: var(--fill-color);\n",
              "      border-left-color: var(--fill-color);\n",
              "    }\n",
              "    20% {\n",
              "      border-color: transparent;\n",
              "      border-left-color: var(--fill-color);\n",
              "      border-top-color: var(--fill-color);\n",
              "    }\n",
              "    30% {\n",
              "      border-color: transparent;\n",
              "      border-left-color: var(--fill-color);\n",
              "      border-top-color: var(--fill-color);\n",
              "      border-right-color: var(--fill-color);\n",
              "    }\n",
              "    40% {\n",
              "      border-color: transparent;\n",
              "      border-right-color: var(--fill-color);\n",
              "      border-top-color: var(--fill-color);\n",
              "    }\n",
              "    60% {\n",
              "      border-color: transparent;\n",
              "      border-right-color: var(--fill-color);\n",
              "    }\n",
              "    80% {\n",
              "      border-color: transparent;\n",
              "      border-right-color: var(--fill-color);\n",
              "      border-bottom-color: var(--fill-color);\n",
              "    }\n",
              "    90% {\n",
              "      border-color: transparent;\n",
              "      border-bottom-color: var(--fill-color);\n",
              "    }\n",
              "  }\n",
              "</style>\n",
              "\n",
              "      <script>\n",
              "        async function quickchart(key) {\n",
              "          const quickchartButtonEl =\n",
              "            document.querySelector('#' + key + ' button');\n",
              "          quickchartButtonEl.disabled = true;  // To prevent multiple clicks.\n",
              "          quickchartButtonEl.classList.add('colab-df-spinner');\n",
              "          try {\n",
              "            const charts = await google.colab.kernel.invokeFunction(\n",
              "                'suggestCharts', [key], {});\n",
              "          } catch (error) {\n",
              "            console.error('Error during call to suggestCharts:', error);\n",
              "          }\n",
              "          quickchartButtonEl.classList.remove('colab-df-spinner');\n",
              "          quickchartButtonEl.classList.add('colab-df-quickchart-complete');\n",
              "        }\n",
              "        (() => {\n",
              "          let quickchartButtonEl =\n",
              "            document.querySelector('#df-df7d656b-f40d-4eee-9d08-f452cb97ea81 button');\n",
              "          quickchartButtonEl.style.display =\n",
              "            google.colab.kernel.accessAllowed ? 'block' : 'none';\n",
              "        })();\n",
              "      </script>\n",
              "    </div>\n",
              "\n",
              "  <div id=\"id_2bd1380c-fa9a-46a5-899c-f80598a1ba8c\">\n",
              "    <style>\n",
              "      .colab-df-generate {\n",
              "        background-color: #E8F0FE;\n",
              "        border: none;\n",
              "        border-radius: 50%;\n",
              "        cursor: pointer;\n",
              "        display: none;\n",
              "        fill: #1967D2;\n",
              "        height: 32px;\n",
              "        padding: 0 0 0 0;\n",
              "        width: 32px;\n",
              "      }\n",
              "\n",
              "      .colab-df-generate:hover {\n",
              "        background-color: #E2EBFA;\n",
              "        box-shadow: 0px 1px 2px rgba(60, 64, 67, 0.3), 0px 1px 3px 1px rgba(60, 64, 67, 0.15);\n",
              "        fill: #174EA6;\n",
              "      }\n",
              "\n",
              "      [theme=dark] .colab-df-generate {\n",
              "        background-color: #3B4455;\n",
              "        fill: #D2E3FC;\n",
              "      }\n",
              "\n",
              "      [theme=dark] .colab-df-generate:hover {\n",
              "        background-color: #434B5C;\n",
              "        box-shadow: 0px 1px 3px 1px rgba(0, 0, 0, 0.15);\n",
              "        filter: drop-shadow(0px 1px 2px rgba(0, 0, 0, 0.3));\n",
              "        fill: #FFFFFF;\n",
              "      }\n",
              "    </style>\n",
              "    <button class=\"colab-df-generate\" onclick=\"generateWithVariable('df')\"\n",
              "            title=\"Generate code using this dataframe.\"\n",
              "            style=\"display:none;\">\n",
              "\n",
              "  <svg xmlns=\"http://www.w3.org/2000/svg\" height=\"24px\"viewBox=\"0 0 24 24\"\n",
              "       width=\"24px\">\n",
              "    <path d=\"M7,19H8.4L18.45,9,17,7.55,7,17.6ZM5,21V16.75L18.45,3.32a2,2,0,0,1,2.83,0l1.4,1.43a1.91,1.91,0,0,1,.58,1.4,1.91,1.91,0,0,1-.58,1.4L9.25,21ZM18.45,9,17,7.55Zm-12,3A5.31,5.31,0,0,0,4.9,8.1,5.31,5.31,0,0,0,1,6.5,5.31,5.31,0,0,0,4.9,4.9,5.31,5.31,0,0,0,6.5,1,5.31,5.31,0,0,0,8.1,4.9,5.31,5.31,0,0,0,12,6.5,5.46,5.46,0,0,0,6.5,12Z\"/>\n",
              "  </svg>\n",
              "    </button>\n",
              "    <script>\n",
              "      (() => {\n",
              "      const buttonEl =\n",
              "        document.querySelector('#id_2bd1380c-fa9a-46a5-899c-f80598a1ba8c button.colab-df-generate');\n",
              "      buttonEl.style.display =\n",
              "        google.colab.kernel.accessAllowed ? 'block' : 'none';\n",
              "\n",
              "      buttonEl.onclick = () => {\n",
              "        google.colab.notebook.generateWithVariable('df');\n",
              "      }\n",
              "      })();\n",
              "    </script>\n",
              "  </div>\n",
              "\n",
              "    </div>\n",
              "  </div>\n"
            ],
            "application/vnd.google.colaboratory.intrinsic+json": {
              "type": "dataframe",
              "variable_name": "df",
              "summary": "{\n  \"name\": \"df\",\n  \"rows\": 9,\n  \"fields\": [\n    {\n      \"column\": \"Feature\",\n      \"properties\": {\n        \"dtype\": \"string\",\n        \"num_unique_values\": 9,\n        \"samples\": [\n          \"Example Code\",\n          \"Function Type\",\n          \"Return Type\"\n        ],\n        \"semantic_type\": \"\",\n        \"description\": \"\"\n      }\n    },\n    {\n      \"column\": \"map()\",\n      \"properties\": {\n        \"dtype\": \"string\",\n        \"num_unique_values\": 9,\n        \"samples\": [\n          \"map(lambda x: x*2, [1,2,3])\",\n          \"Transformation\",\n          \"Transformed elements\"\n        ],\n        \"semantic_type\": \"\",\n        \"description\": \"\"\n      }\n    },\n    {\n      \"column\": \"filter()\",\n      \"properties\": {\n        \"dtype\": \"string\",\n        \"num_unique_values\": 9,\n        \"samples\": [\n          \"filter(lambda x: x%2==0, [1,2,3])\",\n          \"Boolean condition\",\n          \"Filtered elements\"\n        ],\n        \"semantic_type\": \"\",\n        \"description\": \"\"\n      }\n    },\n    {\n      \"column\": \"reduce()\",\n      \"properties\": {\n        \"dtype\": \"string\",\n        \"num_unique_values\": 9,\n        \"samples\": [\n          \"reduce(lambda x,y: x+y, [1,2,3])\",\n          \"Cumulative/combinatorial\",\n          \"Final reduced result\"\n        ],\n        \"semantic_type\": \"\",\n        \"description\": \"\"\n      }\n    }\n  ]\n}"
            }
          },
          "metadata": {},
          "execution_count": 16
        }
      ]
    },
    {
      "cell_type": "markdown",
      "source": [
        "**11. Using pen & Paper write the internal mechanism for sum operation using  reduce function on this given\n",
        "list:[47,11,42,13];**\n",
        "![WIN_20250627_23_36_26_Pro.jpg](data:image/jpeg;base64,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)"
      ],
      "metadata": {
        "id": "2kSL34WujgUl"
      }
    },
    {
      "cell_type": "markdown",
      "source": [
        "# **Practical Questions:**"
      ],
      "metadata": {
        "id": "9-F3l7_Llprq"
      }
    },
    {
      "cell_type": "code",
      "source": [
        "\"\"\" 1. Write a Python function that takes a list of numbers as input and returns the sum of all even numbers in\n",
        "the list.\"\"\"\n",
        "\n",
        "def sum_of_even_numbers(numbers):\n",
        "    even_sum = 0\n",
        "    for num in numbers:\n",
        "        if num % 2 == 0:\n",
        "            even_sum += num\n",
        "    return even_sum\n",
        "my_list = [1, 2, 3, 4, 5, 6]\n",
        "result = sum_of_even_numbers(my_list)\n",
        "print(\"Sum of even numbers:\", result)"
      ],
      "metadata": {
        "colab": {
          "base_uri": "https://localhost:8080/"
        },
        "id": "8Bn8mtUUl2zh",
        "outputId": "0f7ff417-b48e-4c90-aa2c-e03b076829ee"
      },
      "execution_count": 19,
      "outputs": [
        {
          "output_type": "stream",
          "name": "stdout",
          "text": [
            "Sum of even numbers: 12\n"
          ]
        }
      ]
    },
    {
      "cell_type": "code",
      "source": [
        "\"\"\" 2. Create a Python function that accepts a string and returns the reverse of that string.\"\"\"\n",
        "def reverse_string(input_string):\n",
        "    reversed_string = \"\"\n",
        "    for char in input_string:\n",
        "        reversed_string = char + reversed_string\n",
        "    return reversed_string\n",
        "my_string = \"Hello, World!\"\n",
        "result = reverse_string(my_string)\n",
        "print(\"Reversed string:\", result)"
      ],
      "metadata": {
        "colab": {
          "base_uri": "https://localhost:8080/"
        },
        "id": "QyZXXSyHmQ6G",
        "outputId": "ebffa3c3-0a69-4666-8195-29c712db2734"
      },
      "execution_count": 21,
      "outputs": [
        {
          "output_type": "stream",
          "name": "stdout",
          "text": [
            "Reversed string: !dlroW ,olleH\n"
          ]
        }
      ]
    },
    {
      "cell_type": "code",
      "source": [
        "\"\"\" 3. Implement a Python function that takes a list of integers and returns a new list containing the squares of\n",
        "each number.\"\"\"\n",
        "def square_numbers(numbers):\n",
        "    squared_numbers = []\n",
        "    for num in numbers:\n",
        "        squared_numbers.append(num ** 2)\n",
        "    return squared_numbers\n",
        "my_list = [1, 2, 3, 4, 5]\n",
        "result = square_numbers(my_list)\n",
        "print(\"Squared numbers:\", result)"
      ],
      "metadata": {
        "colab": {
          "base_uri": "https://localhost:8080/"
        },
        "id": "4ayxZoQEnEF2",
        "outputId": "8676469d-80e2-4e73-b8a4-be5a3e51bf9b"
      },
      "execution_count": 22,
      "outputs": [
        {
          "output_type": "stream",
          "name": "stdout",
          "text": [
            "Squared numbers: [1, 4, 9, 16, 25]\n"
          ]
        }
      ]
    },
    {
      "cell_type": "code",
      "source": [
        "\"\"\" 4. Write a Python function that checks if a given number is prime or not from 1 to 200.\"\"\"\n",
        "def is_prime(number):\n",
        "    if number < 2:\n",
        "        return False\n",
        "    for i in range(2, int(number ** 0.5) + 1):\n",
        "        if number % i == 0:\n",
        "            return False\n",
        "    return True\n",
        "for num in range(1, 201):\n",
        "    if is_prime(num):\n",
        "        print(num, \"is a prime number.\")\n",
        "    else:\n",
        "        print(num, \"is not a prime number.\")"
      ],
      "metadata": {
        "colab": {
          "base_uri": "https://localhost:8080/"
        },
        "id": "Npq-RmxwnUpy",
        "outputId": "fe768bad-72ad-4c5e-9eb9-49af6c8d6ef6"
      },
      "execution_count": 23,
      "outputs": [
        {
          "output_type": "stream",
          "name": "stdout",
          "text": [
            "1 is not a prime number.\n",
            "2 is a prime number.\n",
            "3 is a prime number.\n",
            "4 is not a prime number.\n",
            "5 is a prime number.\n",
            "6 is not a prime number.\n",
            "7 is a prime number.\n",
            "8 is not a prime number.\n",
            "9 is not a prime number.\n",
            "10 is not a prime number.\n",
            "11 is a prime number.\n",
            "12 is not a prime number.\n",
            "13 is a prime number.\n",
            "14 is not a prime number.\n",
            "15 is not a prime number.\n",
            "16 is not a prime number.\n",
            "17 is a prime number.\n",
            "18 is not a prime number.\n",
            "19 is a prime number.\n",
            "20 is not a prime number.\n",
            "21 is not a prime number.\n",
            "22 is not a prime number.\n",
            "23 is a prime number.\n",
            "24 is not a prime number.\n",
            "25 is not a prime number.\n",
            "26 is not a prime number.\n",
            "27 is not a prime number.\n",
            "28 is not a prime number.\n",
            "29 is a prime number.\n",
            "30 is not a prime number.\n",
            "31 is a prime number.\n",
            "32 is not a prime number.\n",
            "33 is not a prime number.\n",
            "34 is not a prime number.\n",
            "35 is not a prime number.\n",
            "36 is not a prime number.\n",
            "37 is a prime number.\n",
            "38 is not a prime number.\n",
            "39 is not a prime number.\n",
            "40 is not a prime number.\n",
            "41 is a prime number.\n",
            "42 is not a prime number.\n",
            "43 is a prime number.\n",
            "44 is not a prime number.\n",
            "45 is not a prime number.\n",
            "46 is not a prime number.\n",
            "47 is a prime number.\n",
            "48 is not a prime number.\n",
            "49 is not a prime number.\n",
            "50 is not a prime number.\n",
            "51 is not a prime number.\n",
            "52 is not a prime number.\n",
            "53 is a prime number.\n",
            "54 is not a prime number.\n",
            "55 is not a prime number.\n",
            "56 is not a prime number.\n",
            "57 is not a prime number.\n",
            "58 is not a prime number.\n",
            "59 is a prime number.\n",
            "60 is not a prime number.\n",
            "61 is a prime number.\n",
            "62 is not a prime number.\n",
            "63 is not a prime number.\n",
            "64 is not a prime number.\n",
            "65 is not a prime number.\n",
            "66 is not a prime number.\n",
            "67 is a prime number.\n",
            "68 is not a prime number.\n",
            "69 is not a prime number.\n",
            "70 is not a prime number.\n",
            "71 is a prime number.\n",
            "72 is not a prime number.\n",
            "73 is a prime number.\n",
            "74 is not a prime number.\n",
            "75 is not a prime number.\n",
            "76 is not a prime number.\n",
            "77 is not a prime number.\n",
            "78 is not a prime number.\n",
            "79 is a prime number.\n",
            "80 is not a prime number.\n",
            "81 is not a prime number.\n",
            "82 is not a prime number.\n",
            "83 is a prime number.\n",
            "84 is not a prime number.\n",
            "85 is not a prime number.\n",
            "86 is not a prime number.\n",
            "87 is not a prime number.\n",
            "88 is not a prime number.\n",
            "89 is a prime number.\n",
            "90 is not a prime number.\n",
            "91 is not a prime number.\n",
            "92 is not a prime number.\n",
            "93 is not a prime number.\n",
            "94 is not a prime number.\n",
            "95 is not a prime number.\n",
            "96 is not a prime number.\n",
            "97 is a prime number.\n",
            "98 is not a prime number.\n",
            "99 is not a prime number.\n",
            "100 is not a prime number.\n",
            "101 is a prime number.\n",
            "102 is not a prime number.\n",
            "103 is a prime number.\n",
            "104 is not a prime number.\n",
            "105 is not a prime number.\n",
            "106 is not a prime number.\n",
            "107 is a prime number.\n",
            "108 is not a prime number.\n",
            "109 is a prime number.\n",
            "110 is not a prime number.\n",
            "111 is not a prime number.\n",
            "112 is not a prime number.\n",
            "113 is a prime number.\n",
            "114 is not a prime number.\n",
            "115 is not a prime number.\n",
            "116 is not a prime number.\n",
            "117 is not a prime number.\n",
            "118 is not a prime number.\n",
            "119 is not a prime number.\n",
            "120 is not a prime number.\n",
            "121 is not a prime number.\n",
            "122 is not a prime number.\n",
            "123 is not a prime number.\n",
            "124 is not a prime number.\n",
            "125 is not a prime number.\n",
            "126 is not a prime number.\n",
            "127 is a prime number.\n",
            "128 is not a prime number.\n",
            "129 is not a prime number.\n",
            "130 is not a prime number.\n",
            "131 is a prime number.\n",
            "132 is not a prime number.\n",
            "133 is not a prime number.\n",
            "134 is not a prime number.\n",
            "135 is not a prime number.\n",
            "136 is not a prime number.\n",
            "137 is a prime number.\n",
            "138 is not a prime number.\n",
            "139 is a prime number.\n",
            "140 is not a prime number.\n",
            "141 is not a prime number.\n",
            "142 is not a prime number.\n",
            "143 is not a prime number.\n",
            "144 is not a prime number.\n",
            "145 is not a prime number.\n",
            "146 is not a prime number.\n",
            "147 is not a prime number.\n",
            "148 is not a prime number.\n",
            "149 is a prime number.\n",
            "150 is not a prime number.\n",
            "151 is a prime number.\n",
            "152 is not a prime number.\n",
            "153 is not a prime number.\n",
            "154 is not a prime number.\n",
            "155 is not a prime number.\n",
            "156 is not a prime number.\n",
            "157 is a prime number.\n",
            "158 is not a prime number.\n",
            "159 is not a prime number.\n",
            "160 is not a prime number.\n",
            "161 is not a prime number.\n",
            "162 is not a prime number.\n",
            "163 is a prime number.\n",
            "164 is not a prime number.\n",
            "165 is not a prime number.\n",
            "166 is not a prime number.\n",
            "167 is a prime number.\n",
            "168 is not a prime number.\n",
            "169 is not a prime number.\n",
            "170 is not a prime number.\n",
            "171 is not a prime number.\n",
            "172 is not a prime number.\n",
            "173 is a prime number.\n",
            "174 is not a prime number.\n",
            "175 is not a prime number.\n",
            "176 is not a prime number.\n",
            "177 is not a prime number.\n",
            "178 is not a prime number.\n",
            "179 is a prime number.\n",
            "180 is not a prime number.\n",
            "181 is a prime number.\n",
            "182 is not a prime number.\n",
            "183 is not a prime number.\n",
            "184 is not a prime number.\n",
            "185 is not a prime number.\n",
            "186 is not a prime number.\n",
            "187 is not a prime number.\n",
            "188 is not a prime number.\n",
            "189 is not a prime number.\n",
            "190 is not a prime number.\n",
            "191 is a prime number.\n",
            "192 is not a prime number.\n",
            "193 is a prime number.\n",
            "194 is not a prime number.\n",
            "195 is not a prime number.\n",
            "196 is not a prime number.\n",
            "197 is a prime number.\n",
            "198 is not a prime number.\n",
            "199 is a prime number.\n",
            "200 is not a prime number.\n"
          ]
        }
      ]
    },
    {
      "cell_type": "code",
      "source": [
        "\"\"\" 5. Create an iterator class in Python that generates the Fibonacci sequence up to a specified number of\n",
        "terms\"\"\"\n",
        "def fibonacci_generator(n):\n",
        "    a, b = 0, 1\n",
        "    for _ in range(n):\n",
        "        yield a\n",
        "        a, b = b, a + b\n",
        "num_terms = 10\n",
        "fibonacci_sequence = fibonacci_generator(num_terms)\n",
        "for num in fibonacci_sequence:\n",
        "    print(num)"
      ],
      "metadata": {
        "colab": {
          "base_uri": "https://localhost:8080/"
        },
        "id": "7aQnEwtnnlqX",
        "outputId": "bc6a3135-1fe0-43cb-d43d-408ad49b12e5"
      },
      "execution_count": 24,
      "outputs": [
        {
          "output_type": "stream",
          "name": "stdout",
          "text": [
            "0\n",
            "1\n",
            "1\n",
            "2\n",
            "3\n",
            "5\n",
            "8\n",
            "13\n",
            "21\n",
            "34\n"
          ]
        }
      ]
    },
    {
      "cell_type": "code",
      "source": [
        "\"\"\" 6. Write a generator function in Python that yields the powers of 2 up to a given exponent.\"\"\"\n",
        "def power_of_two_generator(exponent):\n",
        "    for i in range(exponent + 1):\n",
        "        yield 2 ** i\n",
        "exponent = 5\n",
        "power_of_two_sequence = power_of_two_generator(exponent)\n",
        "for power in power_of_two_sequence:\n",
        "    print(power)"
      ],
      "metadata": {
        "colab": {
          "base_uri": "https://localhost:8080/"
        },
        "id": "PmP12TmLnxmq",
        "outputId": "ae33a06c-8dda-4708-b2d5-06bd356b20ca"
      },
      "execution_count": 25,
      "outputs": [
        {
          "output_type": "stream",
          "name": "stdout",
          "text": [
            "1\n",
            "2\n",
            "4\n",
            "8\n",
            "16\n",
            "32\n"
          ]
        }
      ]
    },
    {
      "cell_type": "code",
      "source": [
        "\"\"\" 7. Implement a generator function that reads a file line by line and yields each line as a string.\"\"\"\n",
        "with open('example.txt', 'w') as f:\n",
        "    f.write(\"hi venkat \\ngood morning\\nHow are you\\n\")\n",
        "def read_file_line_by_line(file_path):\n",
        "  with open(file_path, 'r') as file:\n",
        "    for line in file:\n",
        "      yield line.rstrip('\\n')\n",
        "file_path = 'example.txt'\n",
        "for line in read_file_line_by_line(file_path):\n",
        "  print(line)"
      ],
      "metadata": {
        "colab": {
          "base_uri": "https://localhost:8080/"
        },
        "id": "LEq3_oHxn58P",
        "outputId": "547f314f-abb1-4631-baae-e0bffa968258"
      },
      "execution_count": 31,
      "outputs": [
        {
          "output_type": "stream",
          "name": "stdout",
          "text": [
            "hi venkat \n",
            "good morning\n",
            "How are you\n"
          ]
        }
      ]
    },
    {
      "cell_type": "code",
      "source": [
        "\"\"\" 8. Use a lambda function in Python to sort a list of tuples based on the second element of each tuple.\"\"\"\n",
        "my_list = [(1, 3), (3, 2), (2, 1)]\n",
        "sorted_list = sorted(my_list, key=lambda x: x[1])\n",
        "print(sorted_list)"
      ],
      "metadata": {
        "colab": {
          "base_uri": "https://localhost:8080/"
        },
        "id": "hX26JQyboDXL",
        "outputId": "74051b54-8e7b-4d01-d413-3a81b25e56c7"
      },
      "execution_count": 32,
      "outputs": [
        {
          "output_type": "stream",
          "name": "stdout",
          "text": [
            "[(2, 1), (3, 2), (1, 3)]\n"
          ]
        }
      ]
    },
    {
      "cell_type": "code",
      "source": [
        "\"\"\" 9. Write a Python program that uses `map()` to convert a list of temperatures from Celsius to Fahrenheit.\"\"\"\n",
        "def celsius_to_fahrenheit(c):\n",
        "    return (c * 9/5) + 32\n",
        "\n",
        "# List of temperatures in Celsius\n",
        "celsius_temps = [0, 20, 37, 100]\n",
        "\n",
        "# Use map() to convert each temperature\n",
        "fahrenheit_temps = list(map(celsius_to_fahrenheit, celsius_temps))\n",
        "\n",
        "# Print the converted temperatures\n",
        "print(fahrenheit_temps)\n"
      ],
      "metadata": {
        "colab": {
          "base_uri": "https://localhost:8080/"
        },
        "id": "zDd4BAgDpf7I",
        "outputId": "feb94f00-d4ef-4633-8c43-a8f866ac189d"
      },
      "execution_count": 34,
      "outputs": [
        {
          "output_type": "stream",
          "name": "stdout",
          "text": [
            "[32.0, 68.0, 98.6, 212.0]\n"
          ]
        }
      ]
    },
    {
      "cell_type": "code",
      "source": [
        "\"\"\" 10. Create a Python program that uses `filter()` to remove all the vowels from a given string.\"\"\"\n",
        "def is_not_vowel(char):\n",
        "    vowels = 'aeiouAEIOU'\n",
        "    return char not in vowels\n",
        "\n",
        "input_str = input(\"Enter a string: \")\n",
        "\n",
        "# Use filter() to keep only non-vowel characters\n",
        "filtered_chars = filter(is_not_vowel, input_str)\n",
        "\n",
        "# Join the filtered characters back into a string\n",
        "result_str = ''.join(filtered_chars)\n",
        "\n",
        "print(\"String after removing vowels:\", result_str)\n"
      ],
      "metadata": {
        "colab": {
          "base_uri": "https://localhost:8080/"
        },
        "id": "IKWBlReOpqfU",
        "outputId": "ffa9c6ea-dbd5-4b98-965c-acd6f8d476bb"
      },
      "execution_count": 36,
      "outputs": [
        {
          "output_type": "stream",
          "name": "stdout",
          "text": [
            "Enter a string: venkat\n",
            "String after removing vowels: vnkt\n"
          ]
        }
      ]
    },
    {
      "cell_type": "code",
      "source": [
        "\"\"\" 11) Imagine an accounting routine used in a book shop. It works on a list with sublists, which look like this:\n",
        "\n",
        "Write a Python program, which returns a list with 2-tuples. Each tuple consists of the order number and the\n",
        "product of the price per item and the quantity. The product should be increased by 10,- € if the value of the\n",
        "order is smaller than 100,00 €.\n",
        "\n",
        "Write a Python program using lambda and map.\"\"\"\n",
        "book_order=[\n",
        "    [34587, \"Learning Python, Mark Lutz\", 40.95, 3],\n",
        "    [98762, \"Programming Python, Mark Lutz\", 56.80, 5],\n",
        "    [77226, \"Head First Python, Paul Barry\", 32.95, 3],\n",
        "]\n",
        "result = list(map(lambda x: (x[0], x[2] * x[3] + 10 if x[2] * x[3] < 100 else x[2] * x[3]), book_order))\n",
        "print(result)"
      ],
      "metadata": {
        "colab": {
          "base_uri": "https://localhost:8080/"
        },
        "id": "kDSFeb1Wp9jp",
        "outputId": "3ae718eb-0b80-4eaf-ead0-bdac09ddd682"
      },
      "execution_count": 38,
      "outputs": [
        {
          "output_type": "stream",
          "name": "stdout",
          "text": [
            "[(34587, 122.85000000000001), (98762, 284.0), (77226, 108.85000000000001)]\n"
          ]
        }
      ]
    },
    {
      "cell_type": "code",
      "source": [],
      "metadata": {
        "id": "F72iU-VfqUeL"
      },
      "execution_count": null,
      "outputs": []
    }
  ]
}